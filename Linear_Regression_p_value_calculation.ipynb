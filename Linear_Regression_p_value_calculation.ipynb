{
  "nbformat": 4,
  "nbformat_minor": 0,
  "metadata": {
    "colab": {
      "name": "Linear_Regression p-value calculation.ipynb",
      "provenance": [],
      "collapsed_sections": []
    },
    "kernelspec": {
      "name": "python3",
      "display_name": "Python 3"
    }
  },
  "cells": [
    {
      "cell_type": "markdown",
      "metadata": {
        "id": "90-i9niMfdgd"
      },
      "source": [
        "## Linear Regression\n",
        "\n",
        "\n",
        "$$\n",
        "y = \\beta_0 + \\beta_1 x + \\epsilon\n",
        "$$"
      ]
    },
    {
      "cell_type": "code",
      "metadata": {
        "id": "KrHkER4efULh"
      },
      "source": [
        "%matplotlib inline\n",
        "import math\n",
        "import matplotlib.pyplot as plt\n",
        "import seaborn as sns; sns.set()\n",
        "import numpy as np"
      ],
      "execution_count": null,
      "outputs": []
    },
    {
      "cell_type": "code",
      "metadata": {
        "id": "C1-VkkBpjwuM"
      },
      "source": [
        "beta='\\N{greek small letter beta}'"
      ],
      "execution_count": null,
      "outputs": []
    },
    {
      "cell_type": "markdown",
      "metadata": {
        "id": "ZopKHWxdc6pm"
      },
      "source": [
        "Create data set"
      ]
    },
    {
      "cell_type": "code",
      "metadata": {
        "id": "AghElVUwfnwr",
        "colab": {
          "base_uri": "https://localhost:8080/",
          "height": 268
        },
        "outputId": "0dc0aada-7f6d-459d-9cf0-3eb95cd8b8f5"
      },
      "source": [
        "n_sample =30\n",
        "rng = np.random.RandomState(2)\n",
        "x = 10 * rng.rand(n_sample)\n",
        "y = -3 * x + 10 + 5*rng.randn(n_sample)\n",
        "plt.scatter(x, y, c='g');"
      ],
      "execution_count": null,
      "outputs": [
        {
          "output_type": "display_data",
          "data": {
            "image/png": "[encoded data removed]",
            "text/plain": [
              "<Figure size 432x288 with 1 Axes>"
            ]
          },
          "metadata": {
            "tags": []
          }
        }
      ]
    },
    {
      "cell_type": "markdown",
      "metadata": {
        "id": "F3DB_oP1f8T9"
      },
      "source": [
        "Use Scikit-Learn's LinearRegression for estimationg the regression parameters"
      ]
    },
    {
      "cell_type": "code",
      "metadata": {
        "id": "Jfy6SfYYgELt",
        "colab": {
          "base_uri": "https://localhost:8080/",
          "height": 268
        },
        "outputId": "122d17a3-2305-44f3-d7d9-4ccac8e097a6"
      },
      "source": [
        "from sklearn.linear_model import LinearRegression\n",
        "model = LinearRegression(fit_intercept=True)\n",
        "\n",
        "model.fit(x[:, np.newaxis], y)\n",
        "x_min = math.floor(min(x))\n",
        "x_max = math.ceil(max(x))\n",
        "xfit = np.linspace(x_min, x_max, 1000)\n",
        "yfit = model.predict(xfit[:, np.newaxis])\n",
        "\n",
        "plt.scatter(x, y)\n",
        "plt.plot(xfit, yfit, c='r');"
      ],
      "execution_count": null,
      "outputs": [
        {
          "output_type": "display_data",
          "data": {
            "image/png": "[encoded data removed]",
            "text/plain": [
              "<Figure size 432x288 with 1 Axes>"
            ]
          },
          "metadata": {
            "tags": []
          }
        }
      ]
    },
    {
      "cell_type": "code",
      "metadata": {
        "id": "v9Ddlo4liAfD",
        "colab": {
          "base_uri": "https://localhost:8080/",
          "height": 54
        },
        "outputId": "0357a843-ae71-4eb4-aad6-1db408ff6a89"
      },
      "source": [
        "print(beta+\"1\"+\": \", model.coef_[0])\n",
        "print(beta+\"0\"+\": \", model.intercept_)"
      ],
      "execution_count": null,
      "outputs": [
        {
          "output_type": "stream",
          "text": [
            "β1:  -2.286599209034518\n",
            "β0:  7.820438308659005\n"
          ],
          "name": "stdout"
        }
      ]
    },
    {
      "cell_type": "markdown",
      "metadata": {
        "id": "6uxW6tMcLP74"
      },
      "source": [
        "# p-value computing"
      ]
    },
    {
      "cell_type": "code",
      "metadata": {
        "id": "0glmecU8kQ1G",
        "colab": {
          "base_uri": "https://localhost:8080/",
          "height": 454
        },
        "outputId": "815467b8-7b22-4452-ee60-6828892d1b7d"
      },
      "source": [
        "import statsmodels.api as sm\n",
        "\n",
        "model_sm ='NULL'\n",
        "model_sm = sm.OLS(y,x) # Ordinary Least Square\n",
        "\n",
        "fii = model_sm.fit()\n",
        "\n",
        "p_values = fii.summary2().tables[1]['P>|t|']\n",
        "\n",
        "print(fii.summary())"
      ],
      "execution_count": null,
      "outputs": [
        {
          "output_type": "stream",
          "text": [
            "                                 OLS Regression Results                                \n",
            "=======================================================================================\n",
            "Dep. Variable:                      y   R-squared (uncentered):                   0.236\n",
            "Model:                            OLS   Adj. R-squared (uncentered):              0.210\n",
            "Method:                 Least Squares   F-statistic:                              8.957\n",
            "Date:                Thu, 24 Sep 2020   Prob (F-statistic):                     0.00560\n",
            "Time:                        02:54:30   Log-Likelihood:                         -97.581\n",
            "No. Observations:                  30   AIC:                                      197.2\n",
            "Df Residuals:                      29   BIC:                                      198.6\n",
            "Df Model:                           1                                                  \n",
            "Covariance Type:            nonrobust                                                  \n",
            "==============================================================================\n",
            "                 coef    std err          t      P>|t|      [0.025      0.975]\n",
            "------------------------------------------------------------------------------\n",
            "x1            -0.7837      0.262     -2.993      0.006      -1.319      -0.248\n",
            "==============================================================================\n",
            "Omnibus:                        0.415   Durbin-Watson:                   2.199\n",
            "Prob(Omnibus):                  0.813   Jarque-Bera (JB):                0.563\n",
            "Skew:                          -0.195   Prob(JB):                        0.755\n",
            "Kurtosis:                       2.454   Cond. No.                         1.00\n",
            "==============================================================================\n",
            "\n",
            "Warnings:\n",
            "[1] Standard Errors assume that the covariance matrix of the errors is correctly specified.\n"
          ],
          "name": "stdout"
        }
      ]
    },
    {
      "cell_type": "code",
      "metadata": {
        "id": "hZ7hcCUXNbjK"
      },
      "source": [
        ""
      ],
      "execution_count": null,
      "outputs": []
    }
  ]
}